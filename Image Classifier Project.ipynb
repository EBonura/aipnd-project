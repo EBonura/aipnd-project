{
 "cells": [
  {
   "cell_type": "markdown",
   "metadata": {},
   "source": [
    "# Developing an AI application\n",
    "\n",
    "Going forward, AI algorithms will be incorporated into more and more everyday applications. For example, you might want to include an image classifier in a smart phone app. To do this, you'd use a deep learning model trained on hundreds of thousands of images as part of the overall application architecture. A large part of software development in the future will be using these types of models as common parts of applications. \n",
    "\n",
    "In this project, you'll train an image classifier to recognize different species of flowers. You can imagine using something like this in a phone app that tells you the name of the flower your camera is looking at. In practice you'd train this classifier, then export it for use in your application. We'll be using [this dataset](http://www.robots.ox.ac.uk/~vgg/data/flowers/102/index.html) of 102 flower categories, you can see a few examples below. \n",
    "\n",
    "<img src='assets/Flowers.png' width=500px>\n",
    "\n",
    "The project is broken down into multiple steps:\n",
    "\n",
    "* Load and preprocess the image dataset\n",
    "* Train the image classifier on your dataset\n",
    "* Use the trained classifier to predict image content\n",
    "\n",
    "We'll lead you through each part which you'll implement in Python.\n",
    "\n",
    "When you've completed this project, you'll have an application that can be trained on any set of labeled images. Here your network will be learning about flowers and end up as a command line application. But, what you do with your new skills depends on your imagination and effort in building a dataset. For example, imagine an app where you take a picture of a car, it tells you what the make and model is, then looks up information about it. Go build your own dataset and make something new.\n",
    "\n",
    "First up is importing the packages you'll need. It's good practice to keep all the imports at the beginning of your code. As you work through this notebook and find you need to import a package, make sure to add the import up here."
   ]
  },
  {
   "cell_type": "code",
   "execution_count": null,
   "metadata": {},
   "outputs": [],
   "source": [
    "# Imports here\n",
    "import numpy as np\n",
    "import matplotlib.pyplot as plt\n",
    "from collections import OrderedDict\n",
    "from PIL import Image\n",
    "import os, random, json\n",
    "from datetime import datetime\n",
    "\n",
    "import torch\n",
    "import torch.nn as nn\n",
    "\n",
    "from torchvision import transforms, datasets, models"
   ]
  },
  {
   "cell_type": "code",
   "execution_count": null,
   "metadata": {},
   "outputs": [],
   "source": [
    "# Check for GPU\n",
    "device = torch.device('cuda' if torch.cuda.is_available() else 'cpu')\n",
    "print('Using device:', device)"
   ]
  },
  {
   "cell_type": "markdown",
   "metadata": {},
   "source": [
    "## Load the data\n",
    "\n",
    "Here you'll use `torchvision` to load the data ([documentation](http://pytorch.org/docs/0.3.0/torchvision/index.html)). The data should be included alongside this notebook, otherwise you can [download it here](https://s3.amazonaws.com/content.udacity-data.com/nd089/flower_data.tar.gz). The dataset is split into three parts, training, validation, and testing. For the training, you'll want to apply transformations such as random scaling, cropping, and flipping. This will help the network generalize leading to better performance. You'll also need to make sure the input data is resized to 224x224 pixels as required by the pre-trained networks.\n",
    "\n",
    "The validation and testing sets are used to measure the model's performance on data it hasn't seen yet. For this you don't want any scaling or rotation transformations, but you'll need to resize then crop the images to the appropriate size.\n",
    "\n",
    "The pre-trained networks you'll use were trained on the ImageNet dataset where each color channel was normalized separately. For all three sets you'll need to normalize the means and standard deviations of the images to what the network expects. For the means, it's `[0.485, 0.456, 0.406]` and for the standard deviations `[0.229, 0.224, 0.225]`, calculated from the ImageNet images.  These values will shift each color channel to be centered at 0 and range from -1 to 1.\n",
    " "
   ]
  },
  {
   "cell_type": "code",
   "execution_count": null,
   "metadata": {},
   "outputs": [],
   "source": [
    "data_dir = 'flowers'\n",
    "img_size = 224\n",
    "batch_size = 128\n",
    "_mean = [0.485, 0.456, 0.406]\n",
    "_std = [0.229, 0.224, 0.225]\n",
    "learning_rate = .001\n",
    "\n",
    "# TODO: Define your transforms for the training, validation, and testing sets\n",
    "data_transforms = {'train': transforms.Compose([transforms.RandomRotation(30),\n",
    "                                                transforms.RandomResizedCrop(img_size),\n",
    "                                                transforms.RandomHorizontalFlip(),\n",
    "                                                transforms.ColorJitter(.3, .3, .3),\n",
    "                                                transforms.ToTensor(),\n",
    "                                                transforms.Normalize(_mean, _std)]),\n",
    "                    'valid': transforms.Compose([transforms.Resize(256),\n",
    "                                                 transforms.CenterCrop(img_size),\n",
    "                                                 transforms.ToTensor(),\n",
    "                                                 transforms.Normalize(_mean, _std)]),\n",
    "                    'test': transforms.Compose([transforms.Resize(256),\n",
    "                                                transforms.CenterCrop(img_size),\n",
    "                                                transforms.ToTensor(),\n",
    "                                                transforms.Normalize(_mean, _std)])}\n",
    "\n",
    "# TODO: Load the datasets with ImageFolder\n",
    "image_datasets = {key: datasets.ImageFolder(os.path.join(data_dir, key), data_transforms[key]) for key in data_transforms.keys()}\n",
    "\n",
    "# TODO: Using the image datasets and the transforms, define the dataloaders\n",
    "dataloaders = {key: torch.utils.data.DataLoader(image_datasets[key], \n",
    "                                                batch_size=batch_size,\n",
    "                                                shuffle=True) for key in data_transforms.keys()}"
   ]
  },
  {
   "cell_type": "markdown",
   "metadata": {},
   "source": [
    "### Label mapping\n",
    "\n",
    "You'll also need to load in a mapping from category label to category name. You can find this in the file `cat_to_name.json`. It's a JSON object which you can read in with the [`json` module](https://docs.python.org/2/library/json.html). This will give you a dictionary mapping the integer encoded categories to the actual names of the flowers."
   ]
  },
  {
   "cell_type": "code",
   "execution_count": null,
   "metadata": {},
   "outputs": [],
   "source": [
    "with open('cat_to_name.json', 'r') as f:\n",
    "    cat_to_name = json.load(f)"
   ]
  },
  {
   "cell_type": "markdown",
   "metadata": {},
   "source": [
    "# Building and training the classifier\n",
    "\n",
    "Now that the data is ready, it's time to build and train the classifier. As usual, you should use one of the pretrained models from `torchvision.models` to get the image features. Build and train a new feed-forward classifier using those features.\n",
    "\n",
    "We're going to leave this part up to you. If you want to talk through it with someone, chat with your fellow students! You can also ask questions on the forums or join the instructors in office hours.\n",
    "\n",
    "Refer to [the rubric](https://review.udacity.com/#!/rubrics/1663/view) for guidance on successfully completing this section. Things you'll need to do:\n",
    "\n",
    "* Load a [pre-trained network](http://pytorch.org/docs/master/torchvision/models.html) (If you need a starting point, the VGG networks work great and are straightforward to use)\n",
    "* Define a new, untrained feed-forward network as a classifier, using ReLU activations and dropout\n",
    "* Train the classifier layers using backpropagation using the pre-trained network to get the features\n",
    "* Track the loss and accuracy on the validation set to determine the best hyperparameters\n",
    "\n",
    "We've left a cell open for you below, but use as many as you need. Our advice is to break the problem up into smaller parts you can run separately. Check that each part is doing what you expect, then move on to the next. You'll likely find that as you work through each part, you'll need to go back and modify your previous code. This is totally normal!\n",
    "\n",
    "When training make sure you're updating only the weights of the feed-forward network. You should be able to get the validation accuracy above 70% if you build everything right. Make sure to try different hyperparameters (learning rate, units in the classifier, epochs, etc) to find the best model. Save those hyperparameters to use as default values in the next part of the project."
   ]
  },
  {
   "cell_type": "code",
   "execution_count": null,
   "metadata": {},
   "outputs": [],
   "source": [
    "# Get pre-trained model\n",
    "model = models.vgg19(pretrained=True)\n",
    "\n",
    "# Block paramaters\n",
    "for param in model.parameters():\n",
    "    param.requires_grad = False\n",
    "\n",
    "# Get how many input features\n",
    "input_size = model.classifier[0].in_features\n",
    "\n",
    "# Define hidden layer sizes\n",
    "hidd1_size =  int(input_size/8)\n",
    "hidd2_size =  int(input_size/16)\n",
    "\n",
    "# Get how many output features\n",
    "output_size = len(cat_to_name)\n",
    "\n",
    "# Attach the label mapping, I need it later\n",
    "model.class_to_idx = image_datasets['train'].class_to_idx\n",
    "\n",
    "# Create the classifier, this will be attached at the end of the pre-trained network, new layers have requires_grad = True by default\n",
    "classifier = nn.Sequential(OrderedDict([\n",
    "                          ('fc1', nn.Linear(input_size, hidd1_size)),\n",
    "                          ('relu1', nn.ReLU()),\n",
    "                          ('drop1', nn.Dropout(p=.2)),\n",
    "                          ('fc2', nn.Linear(hidd1_size, hidd2_size)),\n",
    "                          ('relu2', nn.ReLU()),\n",
    "                          ('drop2', nn.Dropout(p=.2)),\n",
    "                          ('output', nn.Linear(hidd2_size, output_size)),\n",
    "                          ('softmax', nn.LogSoftmax(dim=1))\n",
    "                          ]))\n",
    "\n",
    "# Attach classifier\n",
    "model.classifier = classifier"
   ]
  },
  {
   "cell_type": "code",
   "execution_count": null,
   "metadata": {},
   "outputs": [],
   "source": [
    "# Set all gradients to 0\n",
    "model.zero_grad()\n",
    "\n",
    "# Define criterion and optimizer\n",
    "criterion = nn.NLLLoss()\n",
    "optimizer = torch.optim.Adam((p for p in model.parameters() if p.requires_grad), lr=learning_rate,)\n",
    "\n",
    "# Move model to the available device\n",
    "model = model.to(device)"
   ]
  },
  {
   "cell_type": "code",
   "execution_count": null,
   "metadata": {},
   "outputs": [],
   "source": [
    "epochs = 5\n",
    "logs = np.zeros(2)\n",
    "loss_log = []\n",
    "\n",
    "# Set training mode\n",
    "for epoch in range(epochs):\n",
    "    model.train()\n",
    "    running_loss, accuracy = .0, .0\n",
    "    \n",
    "    for X, y in dataloaders['train']:\n",
    "        X, y = X.to(device), y.to(device)\n",
    "        optimizer.zero_grad()\n",
    "        \n",
    "        # Forward pass\n",
    "        y_ = model(X)\n",
    "        loss = criterion(y_, y)\n",
    "        loss_log.append(loss.item())\n",
    "        \n",
    "        # Backward pass\n",
    "        loss.backward()\n",
    "        optimizer.step()\n",
    "        \n",
    "        # Statistics\n",
    "        print(f\"Training batch loss: {loss.item():.3f}\", end=\"\\r\")\n",
    "        running_loss += loss.item() \n",
    "\n",
    "        _, y_label_ = torch.max(torch.exp(y_), 1)\n",
    "        accuracy += (y_label_ == y).sum().item()\n",
    "        \n",
    "    train_loss = running_loss / len(dataloaders['train'].dataset)\n",
    "    train_acc = accuracy / len(dataloaders['train'].dataset)\n",
    "    print(f\"Epoch: {epoch+1}/{epochs}\", f\"Train Loss: {train_loss:.3f}\", f\"Train Accuracy: {train_acc:.3f}\")\n",
    "    \n",
    "    # At the end of every epoch put model in evaluation mode\n",
    "    model.eval()\n",
    "    running_loss, accuracy = .0, .0\n",
    "\n",
    "    # Evaluate\n",
    "    with torch.no_grad():\n",
    "        for X, y in dataloaders['valid']:\n",
    "            X, y = X.to(device), y.to(device)\n",
    "            y_ = model(X)\n",
    "            \n",
    "            loss = criterion(y_, y)\n",
    "            running_loss += loss.item()\n",
    "            \n",
    "            _, y_label_ = torch.max(torch.exp(y_), 1)\n",
    "            accuracy += (y_label_ == y).sum().item()\n",
    "        \n",
    "        valid_loss = running_loss / len(dataloaders['valid'].dataset)\n",
    "        valid_acc = accuracy / len(dataloaders['valid'].dataset)\n",
    "        print(f\"Epoch: {epoch+1}/{epochs}\", f\"Validation Loss: {valid_loss:.3f}\", f\"Validation Accuracy: {valid_acc:.3f}\")"
   ]
  },
  {
   "cell_type": "code",
   "execution_count": null,
   "metadata": {},
   "outputs": [],
   "source": [
    "# Visualise the loss\n",
    "plt.plot(loss_log)"
   ]
  },
  {
   "cell_type": "markdown",
   "metadata": {},
   "source": [
    "## Testing your network\n",
    "\n",
    "It's good practice to test your trained network on test data, images the network has never seen either in training or validation. This will give you a good estimate for the model's performance on completely new images. Run the test images through the network and measure the accuracy, the same way you did validation. You should be able to reach around 70% accuracy on the test set if the model has been trained well."
   ]
  },
  {
   "cell_type": "code",
   "execution_count": null,
   "metadata": {},
   "outputs": [],
   "source": [
    "# TODO: Do validation on the test set\n",
    "with torch.no_grad():\n",
    "    accuracy = .0\n",
    "    for X, y in dataloaders['test']:\n",
    "        X, y = X.to(device), y.to(device)\n",
    "        y_ = model(X)\n",
    "\n",
    "        _, y_label_ = torch.max(torch.exp(y_), 1)\n",
    "        accuracy += (y_label_ == y).sum().item()\n",
    "\n",
    "    test_acc = accuracy / len(dataloaders['test'].dataset)\n",
    "    print(f\"Testing Accuracy: {test_acc:.3f}\")"
   ]
  },
  {
   "cell_type": "markdown",
   "metadata": {},
   "source": [
    "## Save the checkpoint\n",
    "\n",
    "Now that your network is trained, save the model so you can load it later for making predictions. You probably want to save other things such as the mapping of classes to indices which you get from one of the image datasets: `image_datasets['train'].class_to_idx`. You can attach this to the model as an attribute which makes inference easier later on.\n",
    "\n",
    "```model.class_to_idx = image_datasets['train'].class_to_idx```\n",
    "\n",
    "Remember that you'll want to completely rebuild the model later so you can use it for inference. Make sure to include any information you need in the checkpoint. If you want to load the model and keep training, you'll want to save the number of epochs as well as the optimizer state, `optimizer.state_dict`. You'll likely want to use this trained model in the next part of the project, so best to save it now."
   ]
  },
  {
   "cell_type": "code",
   "execution_count": null,
   "metadata": {},
   "outputs": [],
   "source": [
    "# TODO: Save the checkpoint\n",
    "curr_timestamp = datetime.now().strftime(\"%Y-%m-%d-%H-%M-%S\")\n",
    "checkpoint = {'classifier' : classifier,\n",
    "              'batch_size': batch_size,\n",
    "              'learning_rate': learning_rate,\n",
    "              'epochs': epochs,\n",
    "              'model_name': 'vgg19',\n",
    "              'state_dict': model.state_dict(),\n",
    "              'optimizer': optimizer.state_dict(),\n",
    "              'class_to_idx': model.class_to_idx}\n",
    "\n",
    "torch.save(checkpoint, f'checkpoint-{curr_timestamp}.pth')"
   ]
  },
  {
   "cell_type": "code",
   "execution_count": null,
   "metadata": {},
   "outputs": [],
   "source": [
    "savedir = 'checkpoint'\n",
    "if not os.path.exists(savedir):\n",
    "    print(f\"{savedir} doesn't exist, creating it\")\n",
    "    os.makedirs(savedir)\n",
    "\n",
    "# Save checkpoint in save directory\n",
    "file_path = f'{savedir}/{arch}_checkpoint_{curr_timestamp}.pth'\n",
    "print(file_path)"
   ]
  },
  {
   "cell_type": "markdown",
   "metadata": {},
   "source": [
    "## Loading the checkpoint\n",
    "\n",
    "At this point it's good to write a function that can load a checkpoint and rebuild the model. That way you can come back to this project and keep working on it without having to retrain the network."
   ]
  },
  {
   "cell_type": "code",
   "execution_count": null,
   "metadata": {},
   "outputs": [],
   "source": [
    "# TODO: Write a function that loads a checkpoint and rebuilds the model\n",
    "def load_checkpoint(filepath='checkpoint.pth'):\n",
    "    checkpoint = torch.load(filepath)\n",
    "    model = getattr(models, checkpoint['model_name'])(pretrained=True)\n",
    "    model.classifier = checkpoint['classifier']\n",
    "    model.epochs = checkpoint['epochs']\n",
    "    model.optimizer = checkpoint['optimizer']\n",
    "    model.load_state_dict(checkpoint['state_dict'])\n",
    "    model.class_to_idx = checkpoint['class_to_idx']\n",
    "    \n",
    "    return model"
   ]
  },
  {
   "cell_type": "markdown",
   "metadata": {},
   "source": [
    "# Inference for classification\n",
    "\n",
    "Now you'll write a function to use a trained network for inference. That is, you'll pass an image into the network and predict the class of the flower in the image. Write a function called `predict` that takes an image and a model, then returns the top $K$ most likely classes along with the probabilities. It should look like \n",
    "\n",
    "```python\n",
    "probs, classes = predict(image_path, model)\n",
    "print(probs)\n",
    "print(classes)\n",
    "> [ 0.01558163  0.01541934  0.01452626  0.01443549  0.01407339]\n",
    "> ['70', '3', '45', '62', '55']\n",
    "```\n",
    "\n",
    "First you'll need to handle processing the input image such that it can be used in your network. \n",
    "\n",
    "## Image Preprocessing\n",
    "\n",
    "You'll want to use `PIL` to load the image ([documentation](https://pillow.readthedocs.io/en/latest/reference/Image.html)). It's best to write a function that preprocesses the image so it can be used as input for the model. This function should process the images in the same manner used for training. \n",
    "\n",
    "First, resize the images where the shortest side is 256 pixels, keeping the aspect ratio. This can be done with the [`thumbnail`](http://pillow.readthedocs.io/en/3.1.x/reference/Image.html#PIL.Image.Image.thumbnail) or [`resize`](http://pillow.readthedocs.io/en/3.1.x/reference/Image.html#PIL.Image.Image.thumbnail) methods. Then you'll need to crop out the center 224x224 portion of the image.\n",
    "\n",
    "Color channels of images are typically encoded as integers 0-255, but the model expected floats 0-1. You'll need to convert the values. It's easiest with a Numpy array, which you can get from a PIL image like so `np_image = np.array(pil_image)`.\n",
    "\n",
    "As before, the network expects the images to be normalized in a specific way. For the means, it's `[0.485, 0.456, 0.406]` and for the standard deviations `[0.229, 0.224, 0.225]`. You'll want to subtract the means from each color channel, then divide by the standard deviation. \n",
    "\n",
    "And finally, PyTorch expects the color channel to be the first dimension but it's the third dimension in the PIL image and Numpy array. You can reorder dimensions using [`ndarray.transpose`](https://docs.scipy.org/doc/numpy-1.13.0/reference/generated/numpy.ndarray.transpose.html). The color channel needs to be first and retain the order of the other two dimensions."
   ]
  },
  {
   "cell_type": "code",
   "execution_count": null,
   "metadata": {},
   "outputs": [],
   "source": [
    "def process_image_old(image):\n",
    "    # Note for the reviewer: this is the function I previously submitted\n",
    "    ''' Scales, crops, and normalizes a PIL image for a PyTorch model,\n",
    "        returns an Numpy array\n",
    "    '''\n",
    "    # Using the same pre-processing done earlier\n",
    "    img_size = 224\n",
    "    _mean = [0.485, 0.456, 0.406]\n",
    "    _std = [0.229, 0.224, 0.225]\n",
    "    transformations = transforms.Compose([transforms.Resize(256),\n",
    "                                          transforms.CenterCrop(img_size),\n",
    "                                          transforms.ToTensor(),\n",
    "                                          transforms.Normalize(_mean, _std)])\n",
    "    \n",
    "    return transformations(Image.open(image))"
   ]
  },
  {
   "cell_type": "code",
   "execution_count": null,
   "metadata": {},
   "outputs": [],
   "source": [
    "def process_image(image):\n",
    "    ''' Scales, crops, and normalizes a PIL image for a PyTorch model,\n",
    "        returns an Numpy array\n",
    "    '''\n",
    "    img_size = 224\n",
    "    _mean = [0.485, 0.456, 0.406]\n",
    "    _std = [0.229, 0.224, 0.225]\n",
    "\n",
    "    image = Image.open(select_random_pic('valid'))\n",
    "\n",
    "    # Find ratio between larger and smaller side\n",
    "    ratio = image.size[1] / image.size[0]\n",
    "\n",
    "    # Resize smaller side to 256 and larger side to 256* ratio\n",
    "    image = image.resize((img_size, int(ratio*256)))\n",
    "\n",
    "    # Crop image so that it's centered and 224x224\n",
    "    image = image.crop((0,0,224,224))\n",
    "\n",
    "    # Convert to numpy array\n",
    "    np_image = np.array(image)/255\n",
    "\n",
    "    # Normalize\n",
    "    norm_image = (np_image - _mean) / _std\n",
    "    norm_image = norm_image.transpose((2, 0, 1))\n",
    "    \n",
    "    return torch.from_numpy(norm_image)"
   ]
  },
  {
   "cell_type": "markdown",
   "metadata": {},
   "source": [
    "To check your work, the function below converts a PyTorch tensor and displays it in the notebook. If your `process_image` function works, running the output through this function should return the original image (except for the cropped out portions)."
   ]
  },
  {
   "cell_type": "code",
   "execution_count": null,
   "metadata": {},
   "outputs": [],
   "source": [
    "def imshow(image, ax=None, title=None):\n",
    "    if ax is None:\n",
    "        fig, ax = plt.subplots()\n",
    "    \n",
    "    # PyTorch tensors assume the color channel is the first dimension\n",
    "    # but matplotlib assumes is the third dimension\n",
    "    image = image.transpose((1, 2, 0))\n",
    "    \n",
    "    # Undo preprocessing\n",
    "    mean = np.array([0.485, 0.456, 0.406])\n",
    "    std = np.array([0.229, 0.224, 0.225])\n",
    "    image = std * image + mean\n",
    "    \n",
    "    # Image needs to be clipped between 0 and 1 or it looks like noise when displayed\n",
    "    image = np.clip(image, 0, 1)\n",
    "    \n",
    "    ax.imshow(image)\n",
    "    \n",
    "    return ax"
   ]
  },
  {
   "cell_type": "code",
   "execution_count": null,
   "metadata": {},
   "outputs": [],
   "source": [
    "# Small helper function, given a set returns a different photo each time \n",
    "def select_random_pic(picture_set):\n",
    "    rand_class = random.choice(os.listdir(f'{data_dir}/{picture_set}/'))\n",
    "    rand_pic = random.choice(os.listdir(f'{data_dir}/{picture_set}/{rand_class}'))\n",
    "    return f'{data_dir}/{picture_set}/{rand_class}/{rand_pic}'"
   ]
  },
  {
   "cell_type": "code",
   "execution_count": null,
   "metadata": {},
   "outputs": [],
   "source": [
    "# Checking if everything works\n",
    "img = process_image(select_random_pic('valid'))\n",
    "\n",
    "# imshow returns Type error when fed with tensor when running pytorch 0.4.0 on Workspace \n",
    "# I have to convert it first to a Numpy array\n",
    "# Error doesn't prompt on my local machine with Torch 1.0.0\n",
    "if torch.__version__ == '1.0.0': \n",
    "    imshow(img)\n",
    "else:\n",
    "    imshow(img.numpy())"
   ]
  },
  {
   "cell_type": "markdown",
   "metadata": {},
   "source": [
    "## Class Prediction\n",
    "\n",
    "Once you can get images in the correct format, it's time to write a function for making predictions with your model. A common practice is to predict the top 5 or so (usually called top-$K$) most probable classes. You'll want to calculate the class probabilities then find the $K$ largest values.\n",
    "\n",
    "To get the top $K$ largest values in a tensor use [`x.topk(k)`](http://pytorch.org/docs/master/torch.html#torch.topk). This method returns both the highest `k` probabilities and the indices of those probabilities corresponding to the classes. You need to convert from these indices to the actual class labels using `class_to_idx` which hopefully you added to the model or from an `ImageFolder` you used to load the data ([see here](#Save-the-checkpoint)). Make sure to invert the dictionary so you get a mapping from index to class as well.\n",
    "\n",
    "Again, this method should take a path to an image and a model checkpoint, then return the probabilities and classes.\n",
    "\n",
    "```python\n",
    "probs, classes = predict(image_path, model)\n",
    "print(probs)\n",
    "print(classes)\n",
    "> [ 0.01558163  0.01541934  0.01452626  0.01443549  0.01407339]\n",
    "> ['70', '3', '45', '62', '55']\n",
    "```"
   ]
  },
  {
   "cell_type": "code",
   "execution_count": null,
   "metadata": {},
   "outputs": [],
   "source": [
    "def predict(image_path, model, topk=5):\n",
    "    ''' Predict the class (or classes) of an image using a trained deep learning model.\n",
    "    '''\n",
    "    # TODO: Implement the code to predict the class from an image file\n",
    "    model.eval()\n",
    "    model = model.to(device)\n",
    "    \n",
    "    X = process_image(image_path).unsqueeze(0)\n",
    "    y_ = model(X.to(device))\n",
    "    \n",
    "    top_prob, top_indexes = torch.exp(y_).data.topk(topk)\n",
    "    \n",
    "    # The classifier returns indexes, I need to convert them back to classes\n",
    "    idx_to_class = {model.class_to_idx[k]: k for k in model.class_to_idx}\n",
    "    top_classes = [idx_to_class[x] for x in top_indexes.cpu().numpy().flatten()]\n",
    "    \n",
    "    return(top_prob.cpu().numpy().flatten(), top_classes)"
   ]
  },
  {
   "cell_type": "code",
   "execution_count": null,
   "metadata": {},
   "outputs": [],
   "source": [
    "# Quick check\n",
    "image_path = select_random_pic('valid')\n",
    "model = load_checkpoint('checkpoint.pth')\n",
    "topk_prob, topk_index = predict(image, model)\n",
    "\n",
    "print(topk_prob)\n",
    "print(topk_index)\n",
    "print(image_path)"
   ]
  },
  {
   "cell_type": "markdown",
   "metadata": {},
   "source": [
    "## Sanity Checking\n",
    "\n",
    "Now that you can use a trained model for predictions, check to make sure it makes sense. Even if the testing accuracy is high, it's always good to check that there aren't obvious bugs. Use `matplotlib` to plot the probabilities for the top 5 classes as a bar graph, along with the input image. It should look like this:\n",
    "\n",
    "<img src='assets/inference_example.png' width=300px>\n",
    "\n",
    "You can convert from the class integer encoding to actual flower names with the `cat_to_name.json` file (should have been loaded earlier in the notebook). To show a PyTorch tensor as an image, use the `imshow` function defined above."
   ]
  },
  {
   "cell_type": "code",
   "execution_count": null,
   "metadata": {},
   "outputs": [],
   "source": [
    "# TODO: Display an image along with the top 5 classes\n",
    "image_path = select_random_pic('valid')\n",
    "model = load_checkpoint('checkpoint.pth')\n",
    "topk_prob, topk_index = predict(image_path, model)\n",
    "\n",
    "fig, (ax1, ax2) = plt.subplots(figsize=(6,12), nrows=2)\n",
    "\n",
    "titles = [cat_to_name[x] for x in topk_index]\n",
    "actual_lbl = cat_to_name[image_path.split('/')[2]]\n",
    "predic_lbl = titles[np.argmax(topk_prob)]\n",
    "\n",
    "ax1.set_title(f'Actual label: {actual_lbl}')\n",
    "ax1.imshow(Image.open(image))\n",
    "ax1.axis('off')\n",
    "\n",
    "ax2.set_title(f'Predicted label: {predic_lbl}')\n",
    "ax2.set_yticks(np.arange(5))\n",
    "ax2.set_yticklabels(titles)\n",
    "ax2.invert_yaxis()\n",
    "ax2.set_xlabel('Probability')\n",
    "ax2.barh(yp, topk_prob, align='center')\n",
    "\n",
    "plt.show()"
   ]
  }
 ],
 "metadata": {
  "kernelspec": {
   "display_name": "Python 3",
   "language": "python",
   "name": "python3"
  },
  "language_info": {
   "codemirror_mode": {
    "name": "ipython",
    "version": 3
   },
   "file_extension": ".py",
   "mimetype": "text/x-python",
   "name": "python",
   "nbconvert_exporter": "python",
   "pygments_lexer": "ipython3",
   "version": "3.6.5"
  }
 },
 "nbformat": 4,
 "nbformat_minor": 2
}
